{
 "cells": [
  {
   "cell_type": "markdown",
   "metadata": {},
   "source": [
    "## 논문 세미나\n",
    "\n",
    "### StarGAN\n",
    "**ConditionGAN**  \n",
    "일반 GAN과 같으나 생성자와 판별자 훈련시에 컨디션 조건을 추가함.  \n",
    "\n",
    "**CycleGAN**\n",
    "생성 모델이라기 보다는 변환 모델  \n",
    "\n",
    "**StarGAN**\n",
    "하나의 생성자에서 여러 이미지를 생성  \n",
    "원본이미지(갈색 머리 여성)와 타겟(검은 머리 남성)을 같이 생성자에 넣고 처음 이미지와 비슷한 이미지를 생성  \n",
    "원래 인풋이미지와 비슷한 이미지의 차이를 좁히도록 생성  \n",
    "판별자는 이미지가 real/fake인지 확인하고 또 도메인(검은 머리 남성)도 판별함.  \n",
    "타겟 도메인을 넣어주는 것만으로 생성기의 기능이 바뀌는것과 유사  \n",
    "\n",
    "### Attention is all you need\n",
    "transformer는 RNN의 문제를 해결하고자 만들어짐  \n",
    "디코더에서 출력 단어를 예측할 때마다 인코더에서 입력 문장을 참고함  \n",
    "주어진 입력에 대해 모든 유사도를 계산하고 가중치를 반영한다.  \n",
    "학습하는데 오래걸리고 많은 용량.  \n",
    "\n",
    "\n"
   ]
  }
 ],
 "metadata": {
  "language_info": {
   "name": "python"
  },
  "orig_nbformat": 4
 },
 "nbformat": 4,
 "nbformat_minor": 2
}
