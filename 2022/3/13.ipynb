{
 "cells": [
  {
   "cell_type": "markdown",
   "metadata": {},
   "source": [
    "## spark MLlib\n",
    "- 데이터 프레임과 SparkSQL을 이용한 전처리\n",
    "- Spark MLlib을 이용한 모델 빌딩\n",
    "- ML Pipeline을 통해 모델 빌딩 자동화\n",
    "- MLflow로 모델 관리하고 서빙\n",
    "- 대용량 데이터 처리\n",
    "- 분류: 로지스틱 회귀, 결정트리, 랜덤 포래스트 등\n",
    "- 회귀: 선형회귀, 결정트리, 랜덤 포레스트 등\n",
    "- 클러스터링: k-means, LDA, GMM 등\n",
    "- \n"
   ]
  }
 ],
 "metadata": {
  "language_info": {
   "name": "python"
  },
  "orig_nbformat": 4
 },
 "nbformat": 4,
 "nbformat_minor": 2
}
