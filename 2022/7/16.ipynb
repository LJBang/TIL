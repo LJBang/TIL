{
 "cells": [
  {
   "cell_type": "markdown",
   "metadata": {},
   "source": [
    "##  22.07.16\n",
    "\n",
    "### Dataset, DataLoader\n",
    "데이터 샘플을 처리하는 코드는 지저분하고 유지보수가 어려울 수 있기 때문에  \n",
    "가독성을 높이고 모듈화를 위해서 데이터셋 코드를 모델 학습 코드로부터 분리하는 것이 이상적이다.  \n",
    "Dataset은 샘플과 정답을 저장하고,  \n",
    "DataLoader는 Dataset을 샘플에 쉽게 접근할 수 있도록 iterable 객체로 감싼다.  \n",
    "\n",
    "### 사용자 정의 Dataset만들기\n",
    "사용자 정의 Dataset 클래스는 반드시 3개 함수를 구현해야 한다.  \n",
    "`__init__`, `__len__`, `__getitiem__`  \n",
    "아래에서는 getitem을 통해 인덱스에 해당하는 이미지를 불러오고 해당 이미지와 맞는 label을 csv에서 가져온다.  "
   ]
  },
  {
   "cell_type": "code",
   "execution_count": null,
   "metadata": {},
   "outputs": [],
   "source": [
    "import os\n",
    "\n",
    "import torch\n",
    "from torch.utils.data import Dataset\n",
    "from torchvision import datasets\n",
    "from torchvision.transforms import ToTensor\n",
    "from torchvision.io import read_image\n",
    "import matplotlib.pyplot as plt\n",
    "import pandas as pd\n",
    "\n",
    "class CustomImageDataset(Dataset):\n",
    "    def __init__(self, annotations_file, img_dir, transform=None, target_transform=None):\n",
    "        self.img_labels = pd.read_csv(annotations_file, names=['file_name', 'label'])\n",
    "        self.img_dir = img_dir\n",
    "        self.transform = transform\n",
    "        self.target_transform = target_transform\n",
    "\n",
    "    def __len__(self):\n",
    "        return len(self.img_labels)\n",
    "\n",
    "    def __getitem__(self, idx):\n",
    "        img_path = os.path.join(self.img_dir, self.img_labels.iloc[idx, 0])\n",
    "        image = read_image(img_path)\n",
    "        label = self.img_labels.iloc[idx, 1]\n",
    "        if self.transform:\n",
    "            image = self.transform(image)\n",
    "        if self.target_transform:\n",
    "            label = self.target_transform(label)\n",
    "        return image, label\n"
   ]
  },
  {
   "cell_type": "markdown",
   "metadata": {},
   "source": [
    "### DataLoader로 학습용 데이터 준비하기\n",
    "모델을 학습할 때 일반적으로 샘플들을 미니배치로 전달하고, 매 에폭마다 데이터를 다시 섞어서 과적합을 막고,  \n",
    "파이썬의 멀티프로세싱을 이용해 데이터 검색 속도를 높이려고 한다.  \n",
    "Dataloader는 간단한 API로 이러한 과정들을 추상화한 이터러블 객체이다.  "
   ]
  },
  {
   "cell_type": "code",
   "execution_count": null,
   "metadata": {},
   "outputs": [],
   "source": [
    "from torch.utils.data import DataLoader\n",
    "\n",
    "train_dataloader = DataLoader(train_data, batch_size=64, shuffle=True)\n",
    "test_dataloader = DataLoader(test_data, batch_size=64, shuffle=True)"
   ]
  },
  {
   "cell_type": "markdown",
   "metadata": {},
   "source": []
  }
 ],
 "metadata": {
  "language_info": {
   "name": "python"
  },
  "orig_nbformat": 4
 },
 "nbformat": 4,
 "nbformat_minor": 2
}
