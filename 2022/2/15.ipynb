{
 "cells": [
  {
   "cell_type": "markdown",
   "metadata": {},
   "source": [
    "### Why Pytorch?\n",
    "- Numpy를 대체하면서 GPU를 이용한 연산이 필요한 경우\n",
    "- 최대한의 유연성과 속도를 제공하는 딥러닝 연구 플랫폼이 필요한 경우\n",
    "\n",
    "#### Getting Started\n",
    "Tensor는 Numpy의 ndarray와 유사하며, 추가로 GPU를 사용한 연산 가속도 가능하다."
   ]
  },
  {
   "cell_type": "code",
   "execution_count": 1,
   "metadata": {},
   "outputs": [
    {
     "data": {
      "text/plain": [
       "'1.10.2+cu113'"
      ]
     },
     "execution_count": 1,
     "metadata": {},
     "output_type": "execute_result"
    }
   ],
   "source": [
    "\n",
    "from __future__ import print_function\n",
    "import torch\n",
    "\n",
    "torch.__version__"
   ]
  },
  {
   "cell_type": "code",
   "execution_count": 2,
   "metadata": {},
   "outputs": [
    {
     "name": "stdout",
     "output_type": "stream",
     "text": [
      "tensor([[0., 0., 0.],\n",
      "        [0., 0., 0.],\n",
      "        [0., 0., 0.],\n",
      "        [0., 0., 0.],\n",
      "        [0., 0., 0.]])\n"
     ]
    }
   ],
   "source": [
    "# 초기화 되지 않은 5x3행렬\n",
    "x = torch.empty(5,3)\n",
    "print(x)"
   ]
  },
  {
   "cell_type": "code",
   "execution_count": 3,
   "metadata": {},
   "outputs": [
    {
     "name": "stdout",
     "output_type": "stream",
     "text": [
      "tensor([[ 0.0226,  2.3274,  0.1594],\n",
      "        [ 0.8384, -1.1330, -0.4682],\n",
      "        [-0.5986,  0.9155, -1.7236],\n",
      "        [ 1.3008, -0.5764,  1.7510],\n",
      "        [-0.0681,  0.0127, -0.8202]])\n",
      "tensor([[0.0847, 0.8109, 0.0557],\n",
      "        [0.9166, 0.6709, 0.5330],\n",
      "        [0.0155, 0.5705, 0.4576],\n",
      "        [0.2379, 0.4494, 0.9601],\n",
      "        [0.9400, 0.6339, 0.8144]])\n"
     ]
    }
   ],
   "source": [
    "# 무작위로 초기화된 행렬\n",
    "x = torch.randn(5,3) # normal distribution\n",
    "print(x)\n",
    "x = torch.rand(5,3) # 0 ~ 1\n",
    "print(x)"
   ]
  },
  {
   "cell_type": "code",
   "execution_count": 4,
   "metadata": {},
   "outputs": [
    {
     "name": "stdout",
     "output_type": "stream",
     "text": [
      "tensor([[0, 0, 0],\n",
      "        [0, 0, 0],\n",
      "        [0, 0, 0],\n",
      "        [0, 0, 0],\n",
      "        [0, 0, 0]])\n",
      "tensor([[1, 1, 1],\n",
      "        [1, 1, 1],\n",
      "        [1, 1, 1],\n",
      "        [1, 1, 1],\n",
      "        [1, 1, 1]])\n"
     ]
    }
   ],
   "source": [
    "# dtype이 long이고 0으로 채워진 행렬\n",
    "x = torch.zeros(5,3, dtype=torch.long)\n",
    "print(x)\n",
    "\n",
    "# 1로 채워진~\n",
    "x = torch.ones(5,3, dtype=torch.long)\n",
    "print(x)"
   ]
  },
  {
   "cell_type": "code",
   "execution_count": 5,
   "metadata": {},
   "outputs": [
    {
     "name": "stdout",
     "output_type": "stream",
     "text": [
      "tensor([5.5000, 3.0000])\n"
     ]
    }
   ],
   "source": [
    "x = torch.tensor([5.5,3])\n",
    "print(x)"
   ]
  },
  {
   "cell_type": "code",
   "execution_count": 6,
   "metadata": {},
   "outputs": [
    {
     "name": "stdout",
     "output_type": "stream",
     "text": [
      "tensor([[1., 1., 1.],\n",
      "        [1., 1., 1.],\n",
      "        [1., 1., 1.],\n",
      "        [1., 1., 1.],\n",
      "        [1., 1., 1.]], dtype=torch.float64)\n",
      "tensor([[-1.6001, -0.3352,  1.0847],\n",
      "        [-0.5537,  2.2189, -0.7711],\n",
      "        [ 0.4132,  0.0691,  0.5289],\n",
      "        [ 2.5131, -0.6213,  0.5832],\n",
      "        [ 0.3596, -0.1203, -1.0008]])\n"
     ]
    }
   ],
   "source": [
    "x = x.new_ones(5, 3, dtype=torch.double)\n",
    "print(x)\n",
    "\n",
    "x = torch.randn_like(x, dtype=torch.float)\n",
    "print(x)"
   ]
  },
  {
   "cell_type": "code",
   "execution_count": 7,
   "metadata": {},
   "outputs": [
    {
     "name": "stdout",
     "output_type": "stream",
     "text": [
      "torch.Size([5, 3])\n",
      "torch.Size([5, 3])\n"
     ]
    }
   ],
   "source": [
    "print(x.size())\n",
    "print(x.shape)"
   ]
  },
  {
   "cell_type": "code",
   "execution_count": 8,
   "metadata": {},
   "outputs": [
    {
     "name": "stdout",
     "output_type": "stream",
     "text": [
      "tensor([[-1.6001, -0.3352,  1.0847],\n",
      "        [-0.5537,  2.2189, -0.7711],\n",
      "        [ 0.4132,  0.0691,  0.5289],\n",
      "        [ 2.5131, -0.6213,  0.5832],\n",
      "        [ 0.3596, -0.1203, -1.0008]])\n",
      "tensor([[0.1387, 0.7538, 0.3579],\n",
      "        [0.2308, 0.0877, 0.2151],\n",
      "        [0.5202, 0.1004, 0.3449],\n",
      "        [0.2818, 0.2100, 0.0215],\n",
      "        [0.0340, 0.8750, 0.9507]])\n",
      "tensor([[-1.4614,  0.4186,  1.4426],\n",
      "        [-0.3228,  2.3066, -0.5560],\n",
      "        [ 0.9334,  0.1694,  0.8738],\n",
      "        [ 2.7949, -0.4113,  0.6047],\n",
      "        [ 0.3937,  0.7546, -0.0500]])\n"
     ]
    }
   ],
   "source": [
    "y = torch.rand(5, 3)\n",
    "print(x)\n",
    "print(y)\n",
    "print(x+y)\n",
    "# 각 값끼리 더한다. "
   ]
  },
  {
   "cell_type": "code",
   "execution_count": null,
   "metadata": {},
   "outputs": [
    {
     "name": "stdout",
     "output_type": "stream",
     "text": [
      "tensor([[ 1.6635,  1.0792, -0.0352],\n",
      "        [ 1.2603,  1.1204, -0.0444],\n",
      "        [ 0.8993,  1.7855,  0.7441],\n",
      "        [ 1.4508,  2.2650,  1.8526],\n",
      "        [ 0.1410,  1.2628,  0.5240]])\n"
     ]
    }
   ],
   "source": [
    "print(torch.add(x, y))"
   ]
  },
  {
   "cell_type": "code",
   "execution_count": null,
   "metadata": {},
   "outputs": [
    {
     "name": "stdout",
     "output_type": "stream",
     "text": [
      "tensor([[ 1.6635,  1.0792, -0.0352],\n",
      "        [ 1.2603,  1.1204, -0.0444],\n",
      "        [ 0.8993,  1.7855,  0.7441],\n",
      "        [ 1.4508,  2.2650,  1.8526],\n",
      "        [ 0.1410,  1.2628,  0.5240]])\n"
     ]
    }
   ],
   "source": [
    "result = torch.empty(5,3)\n",
    "\n",
    "torch.add(x, y, out=result)\n",
    "print(result)"
   ]
  },
  {
   "cell_type": "code",
   "execution_count": null,
   "metadata": {},
   "outputs": [
    {
     "name": "stdout",
     "output_type": "stream",
     "text": [
      "tensor([[0.5628, 0.6460, 0.1620],\n",
      "        [0.8988, 0.6710, 0.1090],\n",
      "        [0.9301, 0.9590, 0.2452],\n",
      "        [0.8518, 0.4961, 0.2436],\n",
      "        [0.5622, 0.5054, 0.0365]])\n",
      "tensor([[ 1.6635,  1.0792, -0.0352],\n",
      "        [ 1.2603,  1.1204, -0.0444],\n",
      "        [ 0.8993,  1.7855,  0.7441],\n",
      "        [ 1.4508,  2.2650,  1.8526],\n",
      "        [ 0.1410,  1.2628,  0.5240]])\n"
     ]
    }
   ],
   "source": [
    "# inplace방식 -> _를 접미로 가진다.\n",
    "print(y)\n",
    "y.add_(x)\n",
    "print(y)"
   ]
  },
  {
   "cell_type": "code",
   "execution_count": null,
   "metadata": {},
   "outputs": [
    {
     "name": "stdout",
     "output_type": "stream",
     "text": [
      "tensor([[ 1.1007,  0.4332, -0.1973],\n",
      "        [ 0.3614,  0.4494, -0.1534],\n",
      "        [-0.0308,  0.8265,  0.4989],\n",
      "        [ 0.5990,  1.7689,  1.6089],\n",
      "        [-0.4212,  0.7574,  0.4876]])\n",
      "tensor([0.4332, 0.4494, 0.8265, 1.7689, 0.7574])\n"
     ]
    }
   ],
   "source": [
    "print(x)\n",
    "print(x[:, 1])"
   ]
  },
  {
   "cell_type": "code",
   "execution_count": null,
   "metadata": {},
   "outputs": [
    {
     "name": "stdout",
     "output_type": "stream",
     "text": [
      "tensor([[ 0.4854,  1.4263, -1.5820,  0.7576],\n",
      "        [-0.0401,  2.0656,  0.0208,  1.3769],\n",
      "        [ 0.4292, -0.9824, -1.0087,  0.5948],\n",
      "        [ 0.1989, -0.2519, -0.3371,  0.3230]])\n",
      "tensor([ 0.4854,  1.4263, -1.5820,  0.7576, -0.0401,  2.0656,  0.0208,  1.3769,\n",
      "         0.4292, -0.9824, -1.0087,  0.5948,  0.1989, -0.2519, -0.3371,  0.3230])\n",
      "tensor([[ 0.4854,  1.4263],\n",
      "        [-1.5820,  0.7576],\n",
      "        [-0.0401,  2.0656],\n",
      "        [ 0.0208,  1.3769],\n",
      "        [ 0.4292, -0.9824],\n",
      "        [-1.0087,  0.5948],\n",
      "        [ 0.1989, -0.2519],\n",
      "        [-0.3371,  0.3230]])\n"
     ]
    }
   ],
   "source": [
    "x = torch.randn(4, 4)\n",
    "print(x)\n",
    "\n",
    "# reshape\n",
    "y = x.view(16)\n",
    "z = y.view(-1, 2)\n",
    "print(y)\n",
    "print(z)\n"
   ]
  },
  {
   "cell_type": "code",
   "execution_count": null,
   "metadata": {},
   "outputs": [
    {
     "name": "stdout",
     "output_type": "stream",
     "text": [
      "tensor([0.8982])\n",
      "<class 'torch.Tensor'> <class 'float'>\n",
      "0.898156464099884\n"
     ]
    }
   ],
   "source": [
    "# tensor에 값이 하나라면 .item()으로 숫자값 반환, 값이 여러개면 오류\n",
    "\n",
    "x = torch.randn(1)\n",
    "print(x)\n",
    "print(type(x), type(x.item()))\n",
    "print(x.item())"
   ]
  },
  {
   "cell_type": "code",
   "execution_count": null,
   "metadata": {},
   "outputs": [
    {
     "name": "stdout",
     "output_type": "stream",
     "text": [
      "tensor([1., 1., 1., 1., 1.])\n",
      "[1. 1. 1. 1. 1.]\n",
      "tensor([2., 2., 2., 2., 2.])\n",
      "[2. 2. 2. 2. 2.]\n"
     ]
    }
   ],
   "source": [
    "# tenssor to numpy\n",
    "# cpu상의 tensor와 numpy는 저장공간을 공유하기 때문에, 하나를 변경하면 다른 것도 변경됨\n",
    "a = torch.ones(5)\n",
    "print(a)\n",
    "b = a.numpy()\n",
    "print(b)\n",
    "\n",
    "a.add_(1)\n",
    "print(a)\n",
    "print(b)"
   ]
  },
  {
   "cell_type": "code",
   "execution_count": null,
   "metadata": {},
   "outputs": [
    {
     "name": "stdout",
     "output_type": "stream",
     "text": [
      "tensor([3., 3., 3., 3., 3.])\n",
      "[2. 2. 2. 2. 2.]\n",
      "tensor([2., 2., 2., 2., 2.])\n"
     ]
    }
   ],
   "source": [
    "temp = a.clone()\n",
    "temp_numpy = temp.numpy()\n",
    "\n",
    "a.add_(1)\n",
    "print(a)\n",
    "print(temp_numpy)\n",
    "print(temp)"
   ]
  },
  {
   "cell_type": "code",
   "execution_count": null,
   "metadata": {},
   "outputs": [
    {
     "name": "stdout",
     "output_type": "stream",
     "text": [
      "[1. 1. 1. 1. 1.]\n",
      "[2. 2. 2. 2. 2.]\n",
      "tensor([2., 2., 2., 2., 2.], dtype=torch.float64)\n"
     ]
    }
   ],
   "source": [
    "# numpy to torch\n",
    "import numpy as np\n",
    "a = np.ones(5)\n",
    "print(a)\n",
    "b = torch.from_numpy(a)\n",
    "np.add(a, 1, out=a)\n",
    "print(a)\n",
    "print(b)"
   ]
  },
  {
   "cell_type": "markdown",
   "metadata": {},
   "source": [
    "#### CUDA Tensors"
   ]
  },
  {
   "cell_type": "code",
   "execution_count": null,
   "metadata": {},
   "outputs": [
    {
     "name": "stderr",
     "output_type": "stream",
     "text": [
      "C:\\Users\\leejoon-byeong\\anaconda3\\envs\\stdata\\lib\\site-packages\\torch\\cuda\\__init__.py:106: UserWarning: \n",
      "NVIDIA GeForce RTX 3070 with CUDA capability sm_86 is not compatible with the current PyTorch installation.\n",
      "The current PyTorch install supports CUDA capabilities sm_37 sm_50 sm_60 sm_61 sm_70 sm_75 compute_37.\n",
      "If you want to use the NVIDIA GeForce RTX 3070 GPU with PyTorch, please check the instructions at https://pytorch.org/get-started/locally/\n",
      "\n",
      "  warnings.warn(incompatible_device_warn.format(device_name, capability, \" \".join(arch_list), device_name))\n"
     ]
    }
   ],
   "source": [
    "x = torch.rand(4,4)\n",
    "if torch.cuda.is_available():\n",
    "    device = \"cuda:0\"\n",
    "    y = torch.ones_like(x, device= device)\n",
    "    print(y)\n",
    "\n",
    "    x = x.to(device)\n",
    "    z = x+y\n",
    "    print(z)\n",
    "    print(z.to(\"cpu\", torch.double))"
   ]
  },
  {
   "cell_type": "code",
   "execution_count": 15,
   "metadata": {},
   "outputs": [
    {
     "ename": "NameError",
     "evalue": "name 'x' is not defined",
     "output_type": "error",
     "traceback": [
      "\u001b[1;31m---------------------------------------------------------------------------\u001b[0m",
      "\u001b[1;31mNameError\u001b[0m                                 Traceback (most recent call last)",
      "\u001b[1;32m<ipython-input-15-298f8d08c218>\u001b[0m in \u001b[0;36m<module>\u001b[1;34m\u001b[0m\n\u001b[1;32m----> 1\u001b[1;33m \u001b[0mx\u001b[0m \u001b[1;33m=\u001b[0m \u001b[0mx\u001b[0m\u001b[1;33m.\u001b[0m\u001b[0mcuda\u001b[0m\u001b[1;33m(\u001b[0m\u001b[1;33m)\u001b[0m\u001b[1;33m\u001b[0m\u001b[1;33m\u001b[0m\u001b[0m\n\u001b[0m",
      "\u001b[1;31mNameError\u001b[0m: name 'x' is not defined"
     ]
    }
   ],
   "source": [
    "x = x.cuda()"
   ]
  },
  {
   "cell_type": "markdown",
   "metadata": {},
   "source": [
    "#### Tensorflow"
   ]
  },
  {
   "cell_type": "code",
   "execution_count": 16,
   "metadata": {},
   "outputs": [
    {
     "ename": "ModuleNotFoundError",
     "evalue": "No module named 'tensorflow'",
     "output_type": "error",
     "traceback": [
      "\u001b[1;31m---------------------------------------------------------------------------\u001b[0m",
      "\u001b[1;31mModuleNotFoundError\u001b[0m                       Traceback (most recent call last)",
      "\u001b[1;32m<ipython-input-16-f83c6d50081b>\u001b[0m in \u001b[0;36m<module>\u001b[1;34m\u001b[0m\n\u001b[1;32m----> 1\u001b[1;33m \u001b[1;32mimport\u001b[0m \u001b[0mtensorflow\u001b[0m \u001b[1;32mas\u001b[0m \u001b[0mtf\u001b[0m\u001b[1;33m\u001b[0m\u001b[1;33m\u001b[0m\u001b[0m\n\u001b[0m\u001b[0;32m      2\u001b[0m \u001b[0mprint\u001b[0m\u001b[1;33m(\u001b[0m\u001b[0mtf\u001b[0m\u001b[1;33m.\u001b[0m\u001b[0m__version__\u001b[0m\u001b[1;33m)\u001b[0m\u001b[1;33m\u001b[0m\u001b[1;33m\u001b[0m\u001b[0m\n",
      "\u001b[1;31mModuleNotFoundError\u001b[0m: No module named 'tensorflow'"
     ]
    }
   ],
   "source": [
    "import tensorflow as tf\n",
    "print(tf.__version__)"
   ]
  },
  {
   "cell_type": "code",
   "execution_count": null,
   "metadata": {},
   "outputs": [],
   "source": [
    "my_variable = tf.Variable(tf.zeros([1, 2, 3]))\n",
    "my_variable"
   ]
  },
  {
   "cell_type": "code",
   "execution_count": null,
   "metadata": {},
   "outputs": [],
   "source": [
    "v = tf.Variable(0.0)\n",
    "print(v)\n",
    "\n",
    "w = v + 1\n",
    "print(w)"
   ]
  },
  {
   "cell_type": "code",
   "execution_count": null,
   "metadata": {},
   "outputs": [],
   "source": [
    "a= tf.Variable(0.0)\n",
    "a.assign_add(1)\n",
    "a.read_value()"
   ]
  },
  {
   "cell_type": "code",
   "execution_count": null,
   "metadata": {},
   "outputs": [],
   "source": [
    "mammal = tf.Variable(\"코끼리\", tf.string)\n",
    "ignition = tf.Variable(451, tf.int16)\n",
    "floating = tf.Variable(3.1412345, tf.float64)\n",
    "its_complicated = tf.Variable(12.3 - 4.85j, tf.complex64)\n",
    "\n",
    "print(mammal)\n",
    "print(ignition)\n",
    "print(floating)\n",
    "print(its_complicated)"
   ]
  },
  {
   "cell_type": "code",
   "execution_count": null,
   "metadata": {},
   "outputs": [],
   "source": [
    "# 랭크 1 -> 벡터\n",
    "mystr = tf.Variable(['안녕하세요'], tf.string)\n",
    "cool_numbers = tf.Variable([3.14, 2.71], tf.float32)\n",
    "\n",
    "print(tf.rank(mystr))\n",
    "print(tf.rank(cool_numbers))"
   ]
  },
  {
   "cell_type": "code",
   "execution_count": null,
   "metadata": {},
   "outputs": [],
   "source": [
    "# 랭크2 -> 열과 행\n",
    "mymat = tf.Variable([[7, 4, 5], [11, 12, 12], [12, 14, 16]], tf.int16)\n",
    "print(tf.rank(mymat))"
   ]
  },
  {
   "cell_type": "code",
   "execution_count": null,
   "metadata": {},
   "outputs": [],
   "source": [
    "# 랭크 4 -> 이미지?\n",
    "my_image = tf.zeros([10, 299, 299, 3]) # 배치x높이x너비x색상\n",
    "\n",
    "print(tf.rank(my_image))"
   ]
  },
  {
   "cell_type": "code",
   "execution_count": null,
   "metadata": {},
   "outputs": [],
   "source": []
  }
 ],
 "metadata": {
  "interpreter": {
   "hash": "66367912fa4f5703e455b87e986a8df016e929026c24be7743a08e0834b7ff6c"
  },
  "kernelspec": {
   "display_name": "Python 3.8.5 ('base')",
   "language": "python",
   "name": "python3"
  },
  "language_info": {
   "codemirror_mode": {
    "name": "ipython",
    "version": 3
   },
   "file_extension": ".py",
   "mimetype": "text/x-python",
   "name": "python",
   "nbconvert_exporter": "python",
   "pygments_lexer": "ipython3",
   "version": "3.7.9"
  },
  "orig_nbformat": 4
 },
 "nbformat": 4,
 "nbformat_minor": 2
}
