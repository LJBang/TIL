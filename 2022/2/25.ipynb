{
 "cells": [
  {
   "cell_type": "markdown",
   "metadata": {},
   "source": [
    "## 22.02.25\n",
    "\n",
    "데이터 웨어하우스: 고객용이 아니므로 속도보다는 데이터 크기가 더 중요함  \n",
    "ETL 혹은 파이프라인: 외부의 데이터를 읽어 웨어하우스로 저장해주는 과정  \n",
    "\n",
    "AWS Redshift  \n",
    "- OLAP  \n",
    "- 컬럼별로 압축 가능, 컬럼의 추가 삭제가 빠름  \n",
    "- 벌크 업데이트 지원 레코드를 S3로 복사 후 COPY를 이용해 Redshift로 복사 가능\n",
    "- 고정 용량/비용 SQL 엔진\n",
    "- primary key uniqueness 보장하지 않음  \n",
    "- Postgresql 8.x와 호환되나 모든 기능을 제공하진 않음  \n",
    "\n",
    "이번 강의에서는 Redshift환경에 세 개의 폴더를 구성할 것임.  \n",
    "- raw_data: 진짜로 raw_data  \n",
    "- anlytics: raw_data에서 데이터를 가져와서 여러가지 분석 진행  \n",
    "- adhoc: 테스트를 하거나 개발을 해야하는 경우  \n"
   ]
  },
  {
   "cell_type": "markdown",
   "metadata": {},
   "source": [
    "세션: 사용자의 방문을 논리적인 단위로 나눈 것  \n",
    "- 사용자가 외부링크나 직접 방문할 경우 세션을 생성  \n",
    "- 사용자가 방문 후 일정 시간 상호작용이 없다가 뭔가를 하는 경우 새로 세션을 생성  \n",
    "- 하나의 사용자가 여러 개의 세션을 가질 수 있다.  \n",
    "- 세션을 만들어낸 접점(경유지)를 채널이란 이름으로 기록 -> 마케팅 분석을 위함  \n",
    "- 세션이 생긴 시간도 기록  \n",
    "- 마케팅, 트래픽 관련 Active유저 차트 분석 가능  \n"
   ]
  },
  {
   "cell_type": "markdown",
   "metadata": {},
   "source": [
    "CTAS\n",
    "CREATE TABLE table_name AS SELECT ~~~  \n",
    "SELECT로 가져온 내용을 테이블로 만든다.  \n"
   ]
  },
  {
   "cell_type": "markdown",
   "metadata": {},
   "source": [
    "현업에서 깨끗한 데이터란 존재하지 않음  \n",
    "실제 레코드를 몇 개 살펴보는 것 만한 것이 없음 -> 노가다  \n",
    "\n",
    "데이터 체크하는 버릇  \n",
    "- 중복 레코드 체크  \n",
    "- 최근 데이터 존재 여부 확인  \n",
    "- primary key uniqueness 확인  \n",
    "- NULL값 체크  \n",
    "- 위 과정들을 unit test 형태로 만들어 쉽게 체크할 수 있도록 구현  "
   ]
  }
 ],
 "metadata": {
  "language_info": {
   "name": "python"
  },
  "orig_nbformat": 4
 },
 "nbformat": 4,
 "nbformat_minor": 2
}
