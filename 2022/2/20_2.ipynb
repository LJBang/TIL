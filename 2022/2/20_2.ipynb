{
 "cells": [
  {
   "cell_type": "markdown",
   "metadata": {},
   "source": [
    "## TensorFlow로 구현하기\n",
    "\n",
    "### MNIST 받기"
   ]
  },
  {
   "cell_type": "code",
   "execution_count": 41,
   "metadata": {},
   "outputs": [
    {
     "name": "stdout",
     "output_type": "stream",
     "text": [
      "\n"
     ]
    }
   ],
   "source": [
    "import tensorflow as tf\n",
    "from tensorflow import keras\n",
    "import numpy as np\n",
    "import matplotlib.pyplot as plt\n",
    "%matplotlib inline\n",
    "\n",
    "device = tf.test.gpu_device_name()\n",
    "print(device)\n",
    "\n"
   ]
  },
  {
   "cell_type": "code",
   "execution_count": 42,
   "metadata": {},
   "outputs": [
    {
     "name": "stdout",
     "output_type": "stream",
     "text": [
      "X_train_shape: (48000, 28, 28)\n",
      "y_train_shape: (48000,)\n",
      "X_valid_shape: (12000, 28, 28)\n",
      "y_valid_shape: (12000,)\n",
      "X_test_shape: (10000, 28, 28)\n",
      "y_test_shape: (10000,)\n"
     ]
    }
   ],
   "source": [
    "mnist = tf.keras.datasets.mnist\n",
    "(X_train, y_train), (X_test, y_test) = mnist.load_data()\n",
    "\n",
    "valid_size = 0.2\n",
    "num_train = len(X_train)\n",
    "indices = list(range(num_train))\n",
    "np.random.seed(33)\n",
    "np.random.shuffle(indices)\n",
    "split = int(np.floor(valid_size*num_train))\n",
    "train_idx, valid_idx = indices[split:], indices[:split]\n",
    "\n",
    "X_valid, y_valid = X_train[valid_idx], y_train[valid_idx]\n",
    "X_train, y_train = X_train[train_idx], y_train[train_idx]\n",
    "\n",
    "X_train, X_valid, X_test = X_train/255, X_valid/255, X_test/255\n",
    "\n",
    "print(f\"X_train_shape: {X_train.shape}\")  # X_train_shape: (60000, 28, 28)\n",
    "print(f\"y_train_shape: {y_train.shape}\")  # y_train_shape: (60000,)\n",
    "print(f\"X_valid_shape: {X_valid.shape}\")  # X_train_shape: (60000, 28, 28)\n",
    "print(f\"y_valid_shape: {y_valid.shape}\")  # y_train_shape: (60000,)\n",
    "print(f\"X_test_shape: {X_test.shape}\")  # X_test_shape: (10000, 28, 28)\n",
    "print(f\"y_test_shape: {y_test.shape}\")  # y_test_shape: (10000,)"
   ]
  },
  {
   "cell_type": "code",
   "execution_count": 43,
   "metadata": {},
   "outputs": [
    {
     "data": {
      "image/png": "[encoded data removed]",
      "text/plain": [
       "<Figure size 1800x288 with 20 Axes>"
      ]
     },
     "metadata": {},
     "output_type": "display_data"
    }
   ],
   "source": [
    "fig = plt.figure(figsize=(25, 4))\n",
    "for idx in np.arange(20):\n",
    "    images, labels = X_train[idx], y_train[idx]\n",
    "    ax = fig.add_subplot(2, int(20/2), idx+1, xticks=[], yticks=[])\n",
    "    ax.imshow(np.squeeze(images), cmap='gray')\n",
    "    # print out the correct label for each image\n",
    "    # .item() gets the value contained in a Tensor\n",
    "    ax.set_title(str(labels.item()))\n",
    "    ax.set_title(\"{}\".format(str(labels.item())),\n",
    "                 color=(\"green\"))"
   ]
  },
  {
   "cell_type": "code",
   "execution_count": 44,
   "metadata": {},
   "outputs": [
    {
     "name": "stdout",
     "output_type": "stream",
     "text": [
      "Model: \"sequential_5\"\n",
      "_________________________________________________________________\n",
      " Layer (type)                Output Shape              Param #   \n",
      "=================================================================\n",
      " conv2d_10 (Conv2D)          (None, 28, 28, 28)        280       \n",
      "                                                                 \n",
      " max_pooling2d_10 (MaxPoolin  (None, 13, 13, 28)       0         \n",
      " g2D)                                                            \n",
      "                                                                 \n",
      " conv2d_11 (Conv2D)          (None, 13, 13, 56)        14168     \n",
      "                                                                 \n",
      " max_pooling2d_11 (MaxPoolin  (None, 6, 6, 56)         0         \n",
      " g2D)                                                            \n",
      "                                                                 \n",
      " average_pooling2d_5 (Averag  (None, 2, 2, 56)         0         \n",
      " ePooling2D)                                                     \n",
      "                                                                 \n",
      " flatten_5 (Flatten)         (None, 224)               0         \n",
      "                                                                 \n",
      " dense_15 (Dense)            (None, 784)               176400    \n",
      "                                                                 \n",
      " dropout_10 (Dropout)        (None, 784)               0         \n",
      "                                                                 \n",
      " dense_16 (Dense)            (None, 392)               307720    \n",
      "                                                                 \n",
      " dropout_11 (Dropout)        (None, 392)               0         \n",
      "                                                                 \n",
      " dense_17 (Dense)            (None, 10)                3930      \n",
      "                                                                 \n",
      "=================================================================\n",
      "Total params: 502,498\n",
      "Trainable params: 502,498\n",
      "Non-trainable params: 0\n",
      "_________________________________________________________________\n"
     ]
    }
   ],
   "source": [
    "from tensorflow.keras import layers, models, activations\n",
    "\n",
    "with tf.device(device):\n",
    "    model = models.Sequential([\n",
    "        layers.Conv2D(filters=28, kernel_size=(3, 3), strides=1, padding='same',\n",
    "                    activation=activations.relu, input_shape=(28, 28, 1)),\n",
    "        layers.MaxPool2D(pool_size=(3, 3), strides=2, padding='valid'),\n",
    "        layers.Conv2D(filters=56, kernel_size=(3, 3), strides=1,\n",
    "                    padding='same', activation=activations.relu),\n",
    "        layers.MaxPool2D(pool_size=(3, 3), strides=2, padding='valid'),\n",
    "      \n",
    "        layers.AveragePooling2D(pool_size=(3, 3), padding='valid'),\n",
    "        layers.Flatten(),\n",
    "        \n",
    "        layers.Dense(units=784, activation=activations.relu),\n",
    "        layers.Dropout(rate=0.5),                      \n",
    "        layers.Dense(units=392, activation=activations.relu),\n",
    "        layers.Dropout(rate=0.5),\n",
    "        layers.Dense(units=10, activation=activations.relu)\n",
    "    ])\n",
    "\n",
    "model.summary()"
   ]
  },
  {
   "cell_type": "code",
   "execution_count": 45,
   "metadata": {},
   "outputs": [],
   "source": [
    "from keras.callbacks import ModelCheckpoint, EarlyStopping\n",
    "\n",
    "# filename = 'checkpoint-epoch-{}-batch-{}-trial-001.h5'.format(EPOCH, BATCH_SIZE)\n",
    "checkpoint = ModelCheckpoint('best_model.h5',             \n",
    "                             monitor='val_loss',   \n",
    "                             verbose=1,            \n",
    "                             save_best_only=True,  \n",
    "                             mode='min')\n",
    "\n",
    "earlystopping = EarlyStopping(monitor='val_loss',  \n",
    "                              patience=5, min_delta=0.005)"
   ]
  },
  {
   "cell_type": "code",
   "execution_count": 50,
   "metadata": {},
   "outputs": [
    {
     "name": "stdout",
     "output_type": "stream",
     "text": [
      "Epoch 1/100\n",
      "2396/2400 [============================>.] - ETA: 0s - loss: 0.0402 - accuracy: 0.9873\n",
      "Epoch 1: val_loss improved from 0.04149 to 0.04031, saving model to best_model.h5\n",
      "2400/2400 [==============================] - 14s 6ms/step - loss: 0.0402 - accuracy: 0.9873 - val_loss: 0.0403 - val_accuracy: 0.9870\n",
      "Epoch 2/100\n",
      "2391/2400 [============================>.] - ETA: 0s - loss: 0.0376 - accuracy: 0.9884\n",
      "Epoch 2: val_loss did not improve from 0.04031\n",
      "2400/2400 [==============================] - 13s 6ms/step - loss: 0.0375 - accuracy: 0.9884 - val_loss: 0.0427 - val_accuracy: 0.9868\n",
      "Epoch 3/100\n",
      "2392/2400 [============================>.] - ETA: 0s - loss: 0.0370 - accuracy: 0.9890\n",
      "Epoch 3: val_loss did not improve from 0.04031\n",
      "2400/2400 [==============================] - 13s 5ms/step - loss: 0.0369 - accuracy: 0.9890 - val_loss: 0.0435 - val_accuracy: 0.9875\n",
      "Epoch 4/100\n",
      "2399/2400 [============================>.] - ETA: 0s - loss: 0.0368 - accuracy: 0.9885\n",
      "Epoch 4: val_loss improved from 0.04031 to 0.03946, saving model to best_model.h5\n",
      "2400/2400 [==============================] - 13s 5ms/step - loss: 0.0368 - accuracy: 0.9884 - val_loss: 0.0395 - val_accuracy: 0.9877\n",
      "Epoch 5/100\n",
      "2393/2400 [============================>.] - ETA: 0s - loss: 0.0341 - accuracy: 0.9892\n",
      "Epoch 5: val_loss did not improve from 0.03946\n",
      "2400/2400 [==============================] - 15s 6ms/step - loss: 0.0341 - accuracy: 0.9892 - val_loss: 0.0416 - val_accuracy: 0.9880\n",
      "Epoch 6/100\n",
      "2399/2400 [============================>.] - ETA: 0s - loss: 0.0339 - accuracy: 0.9895\n",
      "Epoch 6: val_loss did not improve from 0.03946\n",
      "2400/2400 [==============================] - 14s 6ms/step - loss: 0.0339 - accuracy: 0.9895 - val_loss: 0.0417 - val_accuracy: 0.9877\n"
     ]
    }
   ],
   "source": [
    "with tf.device('/device:GPU:0'):\n",
    "    model.compile(optimizer='SGD', metrics=['accuracy'],\n",
    "                loss=tf.keras.losses.SparseCategoricalCrossentropy(from_logits=True))\n",
    "    \n",
    "    hist = model.fit(X_train, y_train, batch_size=20, epochs=100, callbacks=[checkpoint, earlystopping], validation_data=(X_valid, y_valid))"
   ]
  },
  {
   "cell_type": "code",
   "execution_count": 62,
   "metadata": {},
   "outputs": [
    {
     "name": "stdout",
     "output_type": "stream",
     "text": [
      "313/313 [==============================] - 1s 3ms/step - loss: 0.0274 - accuracy: 0.9902\n",
      "[7 2 1 ... 4 5 6]\n",
      "test loss:  0.027434328570961952\n",
      "test accuracy: 0.9901999831199646\n",
      "Test Accuracy of     0: 99% (974/980)\n",
      "Test Accuracy of     1: 99% (1131/1135)\n",
      "Test Accuracy of     2: 99% (1025/1032)\n",
      "Test Accuracy of     3: 99% (1002/1010)\n",
      "Test Accuracy of     4: 99% (976/982)\n",
      "Test Accuracy of     5: 98% (882/892)\n",
      "Test Accuracy of     6: 99% (950/958)\n",
      "Test Accuracy of     7: 99% (1022/1028)\n",
      "Test Accuracy of     8: 98% (960/974)\n",
      "Test Accuracy of     9: 97% (980/1009)\n"
     ]
    },
    {
     "data": {
      "image/png": "[encoded data removed]",
      "text/plain": [
       "<Figure size 1800x288 with 20 Axes>"
      ]
     },
     "metadata": {},
     "output_type": "display_data"
    }
   ],
   "source": [
    "with tf.device('/device:GPU:0'):\n",
    "    model.load_weights('best_model.h5')\n",
    "    preds = model.predict(X_test)\n",
    "    preds = np.array(list(map(lambda x: np.argmax(x), preds)))\n",
    "    test_loss, test_acc = model.evaluate(X_test, y_test)\n",
    "\n",
    "print( preds)\n",
    "print('test loss: ', test_loss)\n",
    "print('test accuracy:', test_acc)\n",
    "\n",
    "class_correct = [0. for _ in range(10)]\n",
    "class_total = [0. for _ in range(10)]\n",
    "for i in range(len(preds)):\n",
    "    if preds[i] == y_test[i]:\n",
    "        class_correct[y_test[i]] += 1\n",
    "    class_total[y_test[i]] += 1\n",
    "\n",
    "for i in range(10):\n",
    "    print('Test Accuracy of %5s: %2d%% (%2d/%2d)' % (\n",
    "            str(i), 100 * class_correct[i] / class_total[i],\n",
    "            np.sum(class_correct[i]), np.sum(class_total[i])))\n",
    "\n",
    "fig = plt.figure(figsize=(25, 4))\n",
    "for idx in np.arange(20):\n",
    "    images, labels = X_test[idx], y_test[idx]\n",
    "    ax = fig.add_subplot(2, int(20/2), idx+1, xticks=[], yticks=[])\n",
    "    ax.imshow(np.squeeze(images), cmap='gray')\n",
    "    # print out the correct label for each image\n",
    "    # .item() gets the value contained in a Tensor\n",
    "    ax.set_title(str(labels.item()))\n",
    "    ax.set_title(\"{} ({})\".format(str(preds[idx]), str(labels)),\n",
    "                 color=(\"green\" if preds[idx]==labels else \"red\"))"
   ]
  }
 ],
 "metadata": {
  "interpreter": {
   "hash": "b2bcf9189f40d0c81fe27aab492dc40a6bef0038ebebd2816340548abcf01d61"
  },
  "kernelspec": {
   "display_name": "Python 3.7.9 ('stdata')",
   "language": "python",
   "name": "python3"
  },
  "language_info": {
   "codemirror_mode": {
    "name": "ipython",
    "version": 3
   },
   "file_extension": ".py",
   "mimetype": "text/x-python",
   "name": "python",
   "nbconvert_exporter": "python",
   "pygments_lexer": "ipython3",
   "version": "3.7.9"
  },
  "orig_nbformat": 4
 },
 "nbformat": 4,
 "nbformat_minor": 2
}
