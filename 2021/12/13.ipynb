{
 "cells": [
  {
   "cell_type": "markdown",
   "metadata": {},
   "source": [
    "# 21.12.13\n",
    "\n",
    "데브캠프 2주 - 1일차  \n",
    "선형대수  "
   ]
  },
  {
   "cell_type": "markdown",
   "metadata": {},
   "source": [
    "### 주피터 노트북 설치와 사용"
   ]
  },
  {
   "cell_type": "code",
   "execution_count": 4,
   "metadata": {},
   "outputs": [],
   "source": [
    "import numpy as np"
   ]
  },
  {
   "cell_type": "markdown",
   "metadata": {},
   "source": [
    "### Numpy 사용 이유\n",
    "\n",
    "단순 파이썬 list와 비교해서 속도가 월등히 빠르다.  \n",
    "-> 내부 자료형을 통일해 쓸데없는 연산을 줄였기 때문.  "
   ]
  },
  {
   "cell_type": "markdown",
   "metadata": {},
   "source": [
    "# 선형대수\n",
    "\n",
    "선형대수를 배워봅시다.  \n",
    "\n",
    "## 선형시스템\n",
    "\n",
    "일차 방정식을 다른 말로 선형시스템이라고 함  \n",
    "일차 - 연립일차 등등..  \n",
    "선형대수의 목표는 어떤 연립일차방정식 문제를 정형적인 방법(가우스 소거법 등)으로 표현하고 해결하는 것.  \n",
    "**즉 `Ax = b`방식으로 만들어 풀겠다!**\n",
    "\n",
    "연립 방정식을 행렬식으로 변환하기.  "
   ]
  },
  {
   "cell_type": "code",
   "execution_count": 7,
   "metadata": {},
   "outputs": [
    {
     "name": "stdout",
     "output_type": "stream",
     "text": [
      "[[ 3  1  1]\n",
      " [ 1 -2 -1]\n",
      " [ 1  1  1]]\n",
      "(3, 3)\n"
     ]
    }
   ],
   "source": [
    "# 행렬\n",
    "A = np.array([[3, 1, 1], [1, -2, -1], [1, 1, 1]])\n",
    "\n",
    "print(A)\n",
    "print(np.shape(A))"
   ]
  },
  {
   "cell_type": "code",
   "execution_count": 6,
   "metadata": {},
   "outputs": [
    {
     "name": "stdout",
     "output_type": "stream",
     "text": [
      "[4 1 2]\n",
      "(3,)\n"
     ]
    }
   ],
   "source": [
    "# 벡터\n",
    "b = np.array([4, 1, 2])\n",
    "\n",
    "print(b)\n",
    "print(np.shape(b))"
   ]
  },
  {
   "cell_type": "code",
   "execution_count": 9,
   "metadata": {},
   "outputs": [
    {
     "name": "stdout",
     "output_type": "stream",
     "text": [
      "[[ 3  1  1]\n",
      " [ 1 -2 -1]\n",
      " [ 1  1  1]]\n",
      "(3, 3)\n"
     ]
    }
   ],
   "source": [
    "# 역행렬 구하기\n",
    "A_inv = np.linalg.inv(A)\n",
    "\n",
    "print(A)\n",
    "print(np.shape(A_inv))\n"
   ]
  },
  {
   "cell_type": "code",
   "execution_count": 10,
   "metadata": {},
   "outputs": [
    {
     "name": "stdout",
     "output_type": "stream",
     "text": [
      "[ 1. -1.  2.]\n"
     ]
    }
   ],
   "source": [
    "# Ax = b의 해 x 구하기\n",
    "x = A_inv @ b\n",
    "\n",
    "print(x)"
   ]
  },
  {
   "cell_type": "code",
   "execution_count": 15,
   "metadata": {},
   "outputs": [
    {
     "name": "stdout",
     "output_type": "stream",
     "text": [
      "[4. 1. 2.]\n",
      "OK\n"
     ]
    }
   ],
   "source": [
    "# 검증\n",
    "b_val = A @ x\n",
    "\n",
    "print(b_val)\n",
    "\n",
    "if np.linalg.norm(b - b_val) < 1e-3:\n",
    "    print(\"OK\")\n",
    "else:\n",
    "    print(\"error\")"
   ]
  },
  {
   "cell_type": "markdown",
   "metadata": {},
   "source": [
    "## 가우스 소거법\n",
    "\n",
    "전방소거법와 후방대입법을 순서대로 진행  \n",
    "\n",
    "### 전방소거법(Forward elimination)\n",
    "```py\n",
    "[*, *, *] [x1]   [*]\n",
    "[*, *, *] [x2] = [*]\n",
    "[*, *, *] [x3]   [*]\n",
    "형태의 식을 \n",
    "\n",
    "[*, *, *] [x1]   [*]\n",
    "[0, *, *] [x2] = [*]\n",
    "[0, 0, *] [x3]   [*]\n",
    "형태로 바꿔주는 것\n",
    "```  \n",
    "먼저 식을 위에서부터 e1, e2, e3라고 한다면  \n",
    "e2, e3의 x1의 계수를 0으로 만들고,  \n",
    "e3의 x2계수를 0으로 만들어준다.  \n",
    "마지막으로 각 식의 첫번째 미지수의 계수를 1로 맞춰준다.  \n",
    "\n",
    "\n",
    "- 선형시스템을 가장 풀기 쉬운 꼴로 변형해준다.\n",
    "- 선형시스템의 랭크를 알려준다.\n",
    "- 선형시스템이 해가 있는지 없는지를 알려준다.\n",
    "\n",
    "### 후방 대입법  \n",
    "위에서 만든 식에서 x3부터 차례로 대입하며 찾아나가는것.  \n",
    "\n",
    "## LU분해\n",
    "`Ax = b => (LU)x = b => L(Ux)=b => Ly = b`  \n",
    "A를 L(하삼각행렬)과 U(상삼각행렬)의 곱으로 분해해서 식을 좀 더 쉽게 풀기 위함.  \n",
    "```py\n",
    "==========L==========\n",
    "[*, 0, 0] [y1]   [*]\n",
    "[*, *, 0] [y2] = [*]\n",
    "[*, *, *] [y3]   [*]\n",
    "\n",
    "==========U==========\n",
    "[*, *, *] [x1]   [y1]\n",
    "[0, *, *] [x2] = [y2]\n",
    "[0, 0, *] [x3]   [y3]\n",
    "\n",
    "A = LU\n",
    "```  \n",
    "LU분해는 가우스 소거법의 `forward elimination`을 **행렬로 코드화** 한 것.  \n",
    "- L: A를 전방소거하는데 쓰인 replacement와 scaling에 대한 EROs를 기록해둔 행렬\n",
    "- U: A를 전방소거하고 남은 상삼각행렬\n",
    "- P: A를 전방소거하는데 쓰인 교환에 대한 EROs를 기록해 둔 행렬  \n",
    "  \n",
    "---   \n",
    "- A의 역행렬을 구하는 것 보다 PLU분해를 이용하는것이 안정적이다.  \n",
    "- A는 고정되어있고, b가 자주 업데이트되는 경우 A를 PLU로 분해해둔다면, b가 변하더라도 실시간으로 x를 구할 수 있다."
   ]
  }
 ],
 "metadata": {
  "interpreter": {
   "hash": "ba2650bf7d7c7e627389581bbfb7ca5eaf43efc2b575ce0b5b618aedeb87c45a"
  },
  "kernelspec": {
   "display_name": "Python 3.8.7 64-bit",
   "language": "python",
   "name": "python3"
  },
  "language_info": {
   "codemirror_mode": {
    "name": "ipython",
    "version": 3
   },
   "file_extension": ".py",
   "mimetype": "text/x-python",
   "name": "python",
   "nbconvert_exporter": "python",
   "pygments_lexer": "ipython3",
   "version": "3.7.9"
  },
  "orig_nbformat": 4
 },
 "nbformat": 4,
 "nbformat_minor": 2
}
