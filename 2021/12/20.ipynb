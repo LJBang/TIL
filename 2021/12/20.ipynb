{
 "cells": [
  {
   "cell_type": "markdown",
   "metadata": {},
   "source": [
    "# 21.12.20\n",
    "\n",
    "### 표본분포  \n",
    "표본조사를 통해 파악하고자 하는 정보: 모수  \n",
    "(모평균, 모분산, 모비율 등)  \n",
    "통계량: 표본평균이나 표본 분산과 같은 표본의 특성값  \n",
    "\n",
    "표본평균: 모평균을 알아내는데 쓰임  \n",
    "표본평균은 표본을 어떻게 뽑느냐에 따라서 달라지며,  \n",
    "모집단이 정규분포인경우 표본평균을 모아놓고 보면 정규분포를 따른다.  \n",
    "표본이 충분히 많으면 표본평균, 표본분산은 모평균, 모분산을 따른다 -> 중심극한정리  \n",
    "\n",
    "### 추정\n",
    "모평균을 추정함  \n",
    "점추정: 표본평균이 점추정이 됨  \n",
    "- 구간추정\n",
    "    - 내가 만든 구간 안에 모평균이 있을것이다.  \n",
    "    - 시그마(모표준편차)를 알때 공식을 사용할 수 있으나, 잘 안씀\n",
    "    - 표본의 크기가 커서 중심극한 정리를 사용할 수 있을때, 표본평균을 계산하고, 표본표준편차를 사용해서 구간을 구함.  \n",
    "\n",
    "모비율의 추정  \n",
    "모집단에서 사건의 확률을 추정하는것.  \n",
    "점추정: 확률변수 X -> n개의 표본에서 특정 속성을 갖는 표본의 개수  \n",
    "구간추정: n이 충분히 클때 사용, 확률변수 X를 표준화해서 Z로 만듦.  \n"
   ]
  },
  {
   "cell_type": "markdown",
   "metadata": {},
   "source": [
    "## Numpy\n",
    "\n",
    "### Numpy로 연산하기\n",
    "벡터와 스칼라 연산.  \n",
    "벡터의 각 원소에 대해서 연산을 진행  "
   ]
  },
  {
   "cell_type": "code",
   "execution_count": 1,
   "metadata": {},
   "outputs": [
    {
     "name": "stdout",
     "output_type": "stream",
     "text": [
      "더하기 : [6 7 8]\n",
      "빼기 : [-4 -3 -2]\n",
      "곱하기 : [ 5 10 15]\n",
      "나누기 : [0.2 0.4 0.6]\n"
     ]
    }
   ],
   "source": [
    "import numpy as np\n",
    "\n",
    "x = np.array([1,2,3])\n",
    "c = 5\n",
    "\n",
    "print(f\"더하기 : {x+c}\")\n",
    "print(f\"빼기 : {x-c}\")\n",
    "print(f\"곱하기 : {x*c}\")\n",
    "print(f\"나누기 : {x/c}\")"
   ]
  },
  {
   "cell_type": "code",
   "execution_count": 3,
   "metadata": {},
   "outputs": [
    {
     "name": "stdout",
     "output_type": "stream",
     "text": [
      "더하기 : [ 3 12 25]\n",
      "빼기 : [ -1  -6 -15]\n",
      "곱하기 : [  2  27 100]\n",
      "나누기 : [0.5        0.33333333 0.25      ]\n"
     ]
    }
   ],
   "source": [
    "# 벡터와 벡터 연산\n",
    "# 벡터의 같은 인덱스끼리 연산 진행\n",
    "\n",
    "y = np.array([1, 3, 5])\n",
    "z = np.array([2, 9, 20])\n",
    "\n",
    "print(f\"더하기 : {y+z}\")\n",
    "print(f\"빼기 : {y-z}\")\n",
    "print(f\"곱하기 : {y*z}\")\n",
    "print(f\"나누기 : {y/z}\")"
   ]
  },
  {
   "cell_type": "code",
   "execution_count": 8,
   "metadata": {},
   "outputs": [
    {
     "name": "stdout",
     "output_type": "stream",
     "text": [
      "12\n",
      "[[2 3]\n",
      " [6 7]]\n"
     ]
    }
   ],
   "source": [
    "# Array indexing\n",
    "# index를 기준으로 콤마로 구분 [a][b] => [a, b]\n",
    "W = np.array([[1, 2, 3, 4],[5, 6, 7, 8],[9, 10, 11, 12]])\n",
    "\n",
    "print(W[2, 3])\n",
    "print(W[0:2, 1:3])"
   ]
  },
  {
   "cell_type": "markdown",
   "metadata": {},
   "source": [
    "### Numpy의 Broadcasting\n",
    "1. *M x N, M x 1*  \n",
    "2. *M x N, N x 1*\n",
    "3. *M x 1, 1 x N*\n",
    "위 경우 모두 연산이 가능하도록 Duplicate해서 연산이 된다.  \n",
    "기본적으로 같은 타입의 Data에만 연산이 가능하나, 피연산자가 변환 가능하다면 변환후 연산 됨.  "
   ]
  },
  {
   "cell_type": "code",
   "execution_count": 13,
   "metadata": {},
   "outputs": [
    {
     "name": "stdout",
     "output_type": "stream",
     "text": [
      "[[1 3 3]\n",
      " [4 6 6]\n",
      " [7 9 9]]\n",
      "[[1 2 3]\n",
      " [5 6 7]\n",
      " [7 8 9]]\n",
      "[[ 0  2 -3]\n",
      " [ 0  5 -6]\n",
      " [ 0  8 -9]]\n",
      "[[ 3  1 -1]\n",
      " [ 4  2  0]\n",
      " [ 5  3  1]]\n"
     ]
    }
   ],
   "source": [
    "# M by N, M by 1\n",
    "a = np.array([[1, 2, 3], [4, 5, 6], [7, 8, 9]])\n",
    "x = np.array([0, 1, 0])\n",
    "\n",
    "print(a + x)\n",
    "x = x[:, None]\n",
    "print(a + x)\n",
    "\n",
    "# M by N, 1 by N\n",
    "y = np.array([0, 1, -1])\n",
    "print(a * y)\n",
    "\n",
    "# M by 1, 1 by N\n",
    "t = np.array([1, 2, 3])\n",
    "t = t[:, None]\n",
    "u = np.array([2, 0, -2])\n",
    "\n",
    "print(t + u)"
   ]
  },
  {
   "cell_type": "markdown",
   "metadata": {},
   "source": [
    "## Numpy로 선형대수"
   ]
  },
  {
   "cell_type": "code",
   "execution_count": 17,
   "metadata": {},
   "outputs": [
    {
     "name": "stdout",
     "output_type": "stream",
     "text": [
      "[0. 0. 0.]\n",
      "[[0. 0. 0.]\n",
      " [0. 0. 0.]\n",
      " [0. 0. 0.]]\n",
      "[1. 1. 1.]\n",
      "[[1. 1. 1.]\n",
      " [1. 1. 1.]\n",
      " [1. 1. 1.]]\n"
     ]
    }
   ],
   "source": [
    "# 원소가 모두 0인 벡터(행렬)\n",
    "# 크기를 전달\n",
    "print(np.zeros(3))\n",
    "print(np.zeros((3,3)))\n",
    "\n",
    "# 원소가 모두 1인 ~~\n",
    "print(np.ones(3))\n",
    "print(np.ones((3,3)))"
   ]
  },
  {
   "cell_type": "code",
   "execution_count": 20,
   "metadata": {},
   "outputs": [
    {
     "name": "stdout",
     "output_type": "stream",
     "text": [
      "[[2 0]\n",
      " [0 4]]\n",
      "[[1 0 0]\n",
      " [0 3 0]\n",
      " [0 0 5]]\n"
     ]
    }
   ],
   "source": [
    "# 대각행렬 diagonal matrix\n",
    "# 원소를 전달\n",
    "print(np.diag((2, 4)))\n",
    "print(np.diag((1,3,5)))\n"
   ]
  },
  {
   "cell_type": "code",
   "execution_count": 21,
   "metadata": {},
   "outputs": [
    {
     "name": "stdout",
     "output_type": "stream",
     "text": [
      "[[1 0]\n",
      " [0 1]]\n"
     ]
    }
   ],
   "source": [
    "# 항등행렬 identity\n",
    "# 크기를 전달\n",
    "print(np.eye(2, dtype=int))"
   ]
  },
  {
   "cell_type": "code",
   "execution_count": 22,
   "metadata": {},
   "outputs": [
    {
     "name": "stdout",
     "output_type": "stream",
     "text": [
      "[[ 7 33]\n",
      " [14 36]]\n",
      "[[ 7 33]\n",
      " [14 36]]\n"
     ]
    }
   ],
   "source": [
    "# 행렬곱\n",
    "# np.dot() or @ \n",
    "# 위의 둘은 3차원 이상에서는 다르게 연산된다.  \n",
    "\n",
    "mat1 = np.array([[1, 4], [2, 3]])\n",
    "mat2 = np.array([[7, 9], [0, 6]])\n",
    "\n",
    "print(mat1.dot(mat2))\n",
    "print(mat1 @ mat2)"
   ]
  },
  {
   "cell_type": "code",
   "execution_count": 23,
   "metadata": {},
   "outputs": [
    {
     "name": "stdout",
     "output_type": "stream",
     "text": [
      "15\n"
     ]
    }
   ],
   "source": [
    "# trace\n",
    "# main diagonal의 합\n",
    "\n",
    "a = np.array([[1, 2, 3], [4, 5, 6], [7, 8, 9]])\n",
    "print(np.trace(a))"
   ]
  },
  {
   "cell_type": "code",
   "execution_count": null,
   "metadata": {},
   "outputs": [],
   "source": [
    "# 행렬식\n",
    "# 행렬을 대표하는 값들 중 하나"
   ]
  },
  {
   "cell_type": "code",
   "execution_count": 9,
   "metadata": {},
   "outputs": [
    {
     "data": {
      "text/plain": [
       "[4, 5, 6, 7, 8]"
      ]
     },
     "execution_count": 9,
     "metadata": {},
     "output_type": "execute_result"
    }
   ],
   "source": [
    "\n",
    "class myRange:\n",
    "    def __init__(self, start_num, end_num):\n",
    "        self.start_num = start_num\n",
    "        self.end_num = end_num\n",
    "    \n",
    "    def __iter__(self):\n",
    "        current_num = self.start_num\n",
    "        while current_num < self.end_num:\n",
    "            yield current_num\n",
    "            current_num += 1\n",
    "\n",
    "r1 = myRange(4, 9)\n",
    "list(r1)"
   ]
  },
  {
   "cell_type": "code",
   "execution_count": 13,
   "metadata": {},
   "outputs": [
    {
     "name": "stdout",
     "output_type": "stream",
     "text": [
      "[4, 5, 6, 7, 8]\n",
      "8\n",
      "5\n"
     ]
    }
   ],
   "source": [
    "class myRange:\n",
    "    def __init__(self, start_num: int, end_num: int):\n",
    "        self.start_num = start_num\n",
    "        self.end_num = end_num\n",
    "        self._range = self._create_range()\n",
    "    \n",
    "    def _create_range(self):\n",
    "        nums = []\n",
    "        cur_num = self.start_num\n",
    "        while cur_num < self.end_num:\n",
    "            nums.append(cur_num)\n",
    "            cur_num += 1\n",
    "        return nums\n",
    "    \n",
    "    def __getitem__(self, num_ind: int):\n",
    "        return self._range[num_ind]\n",
    "    \n",
    "    def __len__(self):\n",
    "        return len(self._range)\n",
    "\n",
    "r1 = myRange(4, 9)\n",
    "print(list(r1))\n",
    "print(r1[4])\n",
    "print(len(r1))"
   ]
  },
  {
   "cell_type": "code",
   "execution_count": null,
   "metadata": {},
   "outputs": [],
   "source": []
  }
 ],
 "metadata": {
  "interpreter": {
   "hash": "b2bcf9189f40d0c81fe27aab492dc40a6bef0038ebebd2816340548abcf01d61"
  },
  "kernelspec": {
   "display_name": "Python 3.7.9 64-bit ('stdata': conda)",
   "language": "python",
   "name": "python3"
  },
  "language_info": {
   "codemirror_mode": {
    "name": "ipython",
    "version": 3
   },
   "file_extension": ".py",
   "mimetype": "text/x-python",
   "name": "python",
   "nbconvert_exporter": "python",
   "pygments_lexer": "ipython3",
   "version": "3.7.9"
  },
  "orig_nbformat": 4
 },
 "nbformat": 4,
 "nbformat_minor": 2
}
