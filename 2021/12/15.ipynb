{
 "cells": [
  {
   "cell_type": "markdown",
   "metadata": {},
   "source": [
    "# 21.12.15\n",
    "\n",
    "## 벡터\n",
    "\n",
    "### 벡터의 내적\n",
    "\n",
    "두 벡터의 내적은 두 벡터의 크기를 곱하고 사이각의 코사인값을 곱해준다.  \n",
    "또는 각 벡터의 좌표를 곱해서 더해준다.  \n",
    "내적이 0이라면 두 벡터는 직교한다.  \n",
    "\n",
    "\n",
    "### 벡터의 투영\n",
    "\n",
    "두 벡터 u, a가 있을 때 u를 a에 투영한 벡터를 `proj_a u`라고 하고  \n",
    "`((u*a)/|a|) * ((1/|a|) * a)`로 구할 수 있다. 앞부분은 벡터의 크기이고, 뒷부분은 방향을 나타낸다.  \n",
    "\n",
    "`u - proj_a u`는 `proj_a u`와 직교하는 행렬이다.  \n",
    "\n",
    "### 직교행렬을 이용한 선형시스템\n",
    "선현시스템 `Ax = b`에서 A가 직교행렬이라면, \n",
    "해는 역행렬을 구할 필요 없이 프로젝션으로 구할 수 있다.   \n",
    "만약 A가 정규직교행렬이라면 내적만으로도 구할 수 있다.  \n",
    "\n",
    "### QR분해 \n",
    "A = QR 형태로 정규직교행렬인 Q를 만들고 나머지 R을 저장하는 형태  \n",
    "여기서 R은 상삼각행렬의 형태로 나타난다.  \n",
    "```\n",
    "Q(Rx) = b\n",
    "Qy = b\n",
    "Rx = y\n",
    "```  \n",
    "의 형태로 문제를 풀 수 있다.  \n",
    "\n",
    "QR분해는 LU분해에 비해서 메모리 사용량은 많으나 연산을 병렬처리할 수 있다.  \n",
    "\n",
    "### 특이값 분해(SVD 분해)\n",
    "`m*n`의 행렬 A를  \n",
    "`U(m*m), D(m*n), VT(n*n)`의 세개의 행렬의 곱으로 분해하는 것.  \n",
    "Ax = b를 SVD관점에서 풀어쓰자면, \n",
    "인풋x에 대해서 VT행렬을 곱해서 n차원 회전을 하고, D행렬을 곱해서 길이를 만들고, U행렬을 곱해서 m차원 회전을 해주는 것.  \n",
    "\n",
    "U, V, D는 각각 A의 열벡터의 방향을 대표하게 되는데,  \n",
    "U, V, D 모두에서 순서대로 P개 취한다면 A를 대표하는 근사치 A'를 찾을 수 있다.  \n",
    "\n",
    "### 주성분분석(PCA)\n",
    "공분산행렬에 대한 고유값 분해에 기반을 둔 직교분해.  \n",
    "위에서 근사행렬을 찾은 것 처럼, PCA도 똑같은 원리를 따른다.  \n",
    "\n",
    "### 벡터공간\n",
    "n-벡터 집합 `R^n`은 n차원 벡터공간이라 부를 수 있고,  \n",
    "이들은 모두 덧셈연산과 스칼라 곱 연산에 닫혀있다.  \n",
    "\n",
    "### 최소제곱법\n",
    "`Ax = b`에서 해가 없을 때 최선을 찾는 방법.  \n",
    "아웃풋을 b대신 b를 열 공간에 투영한 `proj_w b`로 두어 이에 대한 해를 찾는 것이다.  \n",
    "이때 w는 A의 열공간이다.  \n",
    "회귀문제를 푸는 것의 기본.  \n",
    "\n",
    "`Ax = b`에서 양변에 A의 전치행렬을 곱해준다.  \n",
    "`AT Ax = AT b`를 풀면 b의 프로젝션에 대한 해 x가 나온다.  \n",
    "\n",
    "### 통계 기본\n",
    "모집단의 표본을 통해서 모수(평균, 표준편차 등)를 구하는 것.  \n",
    "\n",
    "도수: 어떤 사건이 발생한 횟수, 표나 그래프로 시각화.  \n",
    "상대도수: 도수를 전체 원소 수로 나눈 것  "
   ]
  },
  {
   "cell_type": "code",
   "execution_count": 7,
   "metadata": {},
   "outputs": [
    {
     "name": "stdout",
     "output_type": "stream",
     "text": [
      "13\n",
      "69\n"
     ]
    }
   ],
   "source": [
    "import statistics\n",
    "\n",
    "a = [79, 54, 74, 62, 85, 55, 88, 85, 51 ,85, 54, 78, 47]\n",
    "print(len(a))\n",
    "\n",
    "print(statistics.mean(a))"
   ]
  },
  {
   "cell_type": "markdown",
   "metadata": {},
   "source": [
    "모평균: 모집단 전체의 평균  \n",
    "표본평균: 표본의 평균  \n",
    "\n",
    "평균의 경우 극단값의 영향을 많이 받기 때문에, 중앙값을 채택할 수도 있다.  \n",
    "\n",
    "분산: 편차의 제곱의 합을 자료의 수로 나눈 값.  \n",
    "표준편차: 분산의 양의 제곱근  \n",
    "사분위수: 쿼터를 기준으로 0.25, 0.5, 0.75등을 나타낸다.  \n",
    "Z-score: 평균으로부터 몇 표준편차 떨어져있는가?    "
   ]
  },
  {
   "cell_type": "code",
   "execution_count": null,
   "metadata": {},
   "outputs": [],
   "source": []
  }
 ],
 "metadata": {
  "interpreter": {
   "hash": "b2bcf9189f40d0c81fe27aab492dc40a6bef0038ebebd2816340548abcf01d61"
  },
  "kernelspec": {
   "display_name": "Python 3.7.9 64-bit ('stdata': conda)",
   "language": "python",
   "name": "python3"
  },
  "language_info": {
   "codemirror_mode": {
    "name": "ipython",
    "version": 3
   },
   "file_extension": ".py",
   "mimetype": "text/x-python",
   "name": "python",
   "nbconvert_exporter": "python",
   "pygments_lexer": "ipython3",
   "version": "3.7.9"
  },
  "orig_nbformat": 4
 },
 "nbformat": 4,
 "nbformat_minor": 2
}
