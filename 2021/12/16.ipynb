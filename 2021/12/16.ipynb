{
 "cells": [
  {
   "cell_type": "markdown",
   "metadata": {},
   "source": [
    "# 21.12.16\n",
    "\n",
    "## 확률\n",
    "기본 확률, 조합, 덧셈법칙, 배반사건, 곱셈법칙, 여사건 등...  \n",
    "\n",
    "조건부확률: 사건A 가 발생했을때 B가 발생할 확률  \n",
    "    -> 표본을 A가 발생했을 경우로 제한하는것과 같다.  \n",
    "\n",
    "### 확률의 분할법칙\n",
    "어떤 사파리에서는 70%가 사자이고, 나머지는 호랑이  \n",
    "사자는 60%가 2살이상, 호랑이는 40%가 2살이상  \n",
    "Q. 전체 동물 줄 2살 이상인 동물의 비율은?\n",
    "    -> p(B) = P(B|A)P(A) + P(B|Ac)P(Ac)  \n",
    "    = `0.6*0.7` + `0.4*0.3` = `0.54`  \n",
    "\n",
    "### 베이즈 정리\n",
    "P(A|B) = (P(B|A)P(A)) / P(B|A)P(A) + P(B|Ac)P(Ac)  \n",
    "        = (P(B|A)P(A)) / P(B)  \n",
    "위에서 동물을 랜덤하게 뽑아서 2살이상이었을 때, 이 동물이 사자일 확률!  "
   ]
  },
  {
   "cell_type": "code",
   "execution_count": null,
   "metadata": {},
   "outputs": [],
   "source": [
    "# step function\n",
    "def step_function(x):\n",
    "    if x>0: return 1\n",
    "    else: return 0\n",
    "\n",
    "# 넘파이 입력일때 스텝 펑션\n",
    "def step_function_numpy(x):\n",
    "    return (x>0).astype(int)"
   ]
  },
  {
   "cell_type": "code",
   "execution_count": null,
   "metadata": {},
   "outputs": [],
   "source": [
    "# sigmoid func\n",
    "\n",
    "def sigmoid(x):\n",
    "    return 1 / (1 + np.exp(-x))"
   ]
  },
  {
   "cell_type": "code",
   "execution_count": null,
   "metadata": {},
   "outputs": [],
   "source": [
    "# relu func\n",
    "\n",
    "def relu(x):\n",
    "    return np.maximum(0, x)"
   ]
  },
  {
   "cell_type": "markdown",
   "metadata": {},
   "source": [
    "행렬의 내적은 `np.dot(A, B)`를 통해 구할 수 있다.  \n",
    "이는 신경망의 내적과 같다~  \n",
    "\n",
    "### 3층 신경망 \n",
    "입력 노드 X에 가중치 W를 곱하고 바이어스 B를 더해준다.  \n",
    "각 값에 대해서 다 해줘야 하므로 행렬곱을 이용한다.  \n",
    "A = XW + B  "
   ]
  },
  {
   "cell_type": "code",
   "execution_count": null,
   "metadata": {},
   "outputs": [],
   "source": [
    "X = np.array([1.0, 0.5])\n",
    "W1 = np.array([[0.1, 0.3, 0.5], \n",
    "               [0.2, 0.4, 0.6]])\n",
    "B1 = np.array([0.1, 0.2, 0.3])\n",
    "\n",
    "print('W1.shape :', W1.shape)\n",
    "print('X.shape :', X.shape)\n",
    "print('B1.shape :', B1.shape)\n",
    "\n",
    "# 입력에 가중치를 곱한다.  \n",
    "A1 = np.dot(X, W1) + B1\n",
    "print('A1.shape :', A1.shape)\n",
    "print('A1 :', A1)\n",
    "\n",
    "# 이후에 활성화함수\n",
    "Z1 = sigmoid(A1)\n",
    "\n",
    "# 이후에 다시 신경망\n",
    "A2 = np.dot(Z1, W2) + B2\n",
    "Z2 = sigmoid(A2)\n",
    "\n",
    "# 출력층\n",
    "# 가중치를 곱하고 출력\n",
    "# 여기서는 활성화함수가 항등함수\n",
    "\n",
    "# 항등함수\n",
    "def identity_func(X):\n",
    "    return X\n",
    "\n",
    "A3 = np.dot(Z2, W3) + B3\n",
    "Y = identity_func(A3)"
   ]
  },
  {
   "cell_type": "code",
   "execution_count": null,
   "metadata": {},
   "outputs": [],
   "source": [
    "# softmax\n",
    "\n",
    "def softmax_0(a):\n",
    "    exp_a = np.exp(a)\n",
    "    sum_exp_a = np.sum(exp_a)\n",
    "    y = exp_a / sum_exp_a\n",
    "    return y\n",
    "\n",
    "# 오버플로우 방지 softmax 개선\n",
    "def softmax(a):\n",
    "    c = np.max(a)\n",
    "    exp_a = np.exp(a-c)\n",
    "    return exp_a / sum(exp_a)"
   ]
  },
  {
   "cell_type": "code",
   "execution_count": null,
   "metadata": {},
   "outputs": [],
   "source": [
    "# MSE 평균제곱오차\n",
    "def squared_error(y, t):\n",
    "    if y.ndim == 1:\n",
    "        t = t.reshape(1, t.size)\n",
    "        y = y.reshape(1, y.size)\n",
    "    return 0.5* ((y-t)**2).sum() / y.shape[0]\n",
    "\n",
    "# CEE 교차엔트로피오차\n",
    "# y는 예측값, 0~1 사이\n",
    "# t는 정답 one_hot인코딩 되어있음\n",
    "def cee_onehot1(y, t):\n",
    "    delta = 1e-7 # log0을 방지하기위해 작은값.\n",
    "    return -np.sum(t * np.log(y+delta))\n",
    "\n",
    "# t의 요소중 하나만 1이므로 1인것만 찾으면 됨\n",
    "def cee_onehot2(y, t):\n",
    "    delta = 1e-7\n",
    "    return -np.log(y[t==1] + delta)\n",
    "\n",
    "# t가 원핫인코딩이 아니라 인덱스로 주어질 경우\n",
    "def cee_index(y, t):\n",
    "    delta = 1e-7\n",
    "    return -np.log(y[t] + delta)"
   ]
  },
  {
   "cell_type": "code",
   "execution_count": null,
   "metadata": {},
   "outputs": [],
   "source": [
    "# 미니배치 학습\n",
    "# np.random.choice를 통해 index를 뽑고 미니배치를 만든다.\n",
    "\n",
    "train_size = x_train.shape[0]\n",
    "batch_size = 10\n",
    "batch_mask = np.random.choice(train_size, batch_size)\n",
    "\n",
    "# 추출한 배치 인덱스로 미니배치 구성\n",
    "x_batch = x_train[batch_mask]\n",
    "t_batch = t_train[batch_mask]\n",
    "\n",
    "# 배치용 CEE\n",
    "def cee_batch(y, t):\n",
    "    if y.ndim == 1:\n",
    "        t = t.reshape(1, t.size)\n",
    "        y = y.reshape(1, y.size)\n",
    "    batch_size = y.shape[0]\n",
    "    return np.sum(-np.log(y[t>0]+1.0e-7), axis=0) / batch_size"
   ]
  },
  {
   "cell_type": "code",
   "execution_count": null,
   "metadata": {},
   "outputs": [],
   "source": [
    "# 수치 미분\n",
    "def numerical_diff(f, x, h = 1e-4):\n",
    "    return (f(x+h) - f(x-h)) / (2*h)\n",
    "\n"
   ]
  }
 ],
 "metadata": {
  "interpreter": {
   "hash": "c65a88a0710fa29be1b1581b9a854fbcd67b08d43e0b9b5394a4b2000e76cc07"
  },
  "kernelspec": {
   "display_name": "Python 3.8.8 64-bit ('data-sci': conda)",
   "language": "python",
   "name": "python3"
  },
  "language_info": {
   "name": "python",
   "version": "3.7.9"
  },
  "orig_nbformat": 4
 },
 "nbformat": 4,
 "nbformat_minor": 2
}
