{
 "cells": [
  {
   "cell_type": "markdown",
   "metadata": {},
   "source": [
    "# 21.12.17\n",
    "\n",
    "### 확률 변수  \n",
    "표본공간의 부분집합에 대응하는 실수.  \n",
    "이산확률변수: 확률변수가 취할 수 있는 모든 수 값들을 셀수있는 경우 (주사위, 동전 등)  \n",
    "연속확률변수: 셀 수 없는 경우(키, 몸무게 등)  \n",
    "\n",
    "### 확률 분포\n",
    "확률 변수가 가질 수 있는 값에 대해 확률을 대응  \n",
    "- ex)\n",
    "    - p(x=0) = 0.2\n",
    "    - p(x=1) = 0.3\n",
    "    - p(x=2) = 0.5\n",
    "\n",
    "### 확률 변수의 평균\n",
    "`E(X) = sum(x * f(x))`  \n",
    "\n",
    "### 확률변수의 분산과 표준편차\n",
    "`s^2 = E[(X-m)^2] = sum[(s-m)^2 * P(x)]`  \n",
    "혹은 `E(X^2) - E(X)^2`  \n",
    "표준편차는 분산의 양의 제곱근\n",
    "\n",
    "### 결합 확률 분포\n",
    "두 개 이상의 확률 변수가 동시에 취하는 값들에 대해 확률을 대응시켜주는 관계  \n",
    "ex)  \n",
    "확률변수 X: 한 학생이 가진 휴대폰의 수  \n",
    "확률변수 Y: 한 학생이 가진 노트북의 수  \n",
    "\n",
    "### 공분산\n",
    "결합확률 분포에서 두개의 확률 변수가 어떤 관계를 가지는지 알 수 있고,  \n",
    "이를 확률변수로 보고 분산을 구할 수 있다.  \n",
    "```\n",
    "Cov(X,Y) = E[(X-mx)(Y-my)]\n",
    "         = E(XY) - E[X]E[Y]\n",
    "```  \n",
    "\n",
    "### 상관계수\n",
    "공분산은 각 확률 변수의 절대적인 크기에 영향을 받으므로  \n",
    "이를 없애줄 필요가 있다.  \n",
    "`Corr(X, Y) = Cov(X,Y) / sXsY`  \n",
    "\n",
    "## 각종 확률 분포\n",
    "### 이항분포\n",
    "베르누이 시행: 2개의 결과만을 가지는 실험  \n",
    "여기서 확률변수 X는 n번의 베르누이 시행에서 성공한 횟수(이항확률변수)  \n",
    "이항확률변수의 확률 분포를 이항분포라고 함.  \n",
    "\n",
    "평균: np  \n",
    "분산: np(1-p)  \n"
   ]
  },
  {
   "cell_type": "code",
   "execution_count": 13,
   "metadata": {},
   "outputs": [
    {
     "ename": "ModuleNotFoundError",
     "evalue": "No module named 'scipy'",
     "output_type": "error",
     "traceback": [
      "\u001b[1;31m---------------------------------------------------------------------------\u001b[0m",
      "\u001b[1;31mModuleNotFoundError\u001b[0m                       Traceback (most recent call last)",
      "\u001b[1;32m<ipython-input-13-bac96ae340e0>\u001b[0m in \u001b[0;36m<module>\u001b[1;34m\u001b[0m\n\u001b[1;32m----> 1\u001b[1;33m \u001b[1;32mfrom\u001b[0m \u001b[0mscipy\u001b[0m \u001b[1;32mimport\u001b[0m \u001b[0mstats\u001b[0m\u001b[1;33m\u001b[0m\u001b[1;33m\u001b[0m\u001b[0m\n\u001b[0m\u001b[0;32m      2\u001b[0m \u001b[1;36m1\u001b[0m \u001b[1;33m-\u001b[0m \u001b[0mstats\u001b[0m\u001b[1;33m.\u001b[0m\u001b[0mbinom\u001b[0m\u001b[1;33m.\u001b[0m\u001b[0mcdf\u001b[0m\u001b[1;33m(\u001b[0m\u001b[1;36m0\u001b[0m\u001b[1;33m,\u001b[0m \u001b[0mn\u001b[0m\u001b[1;33m=\u001b[0m\u001b[1;36m3\u001b[0m\u001b[1;33m,\u001b[0m \u001b[0mp\u001b[0m\u001b[1;33m=\u001b[0m\u001b[1;36m0.2\u001b[0m\u001b[1;33m)\u001b[0m\u001b[1;33m\u001b[0m\u001b[1;33m\u001b[0m\u001b[0m\n",
      "\u001b[1;31mModuleNotFoundError\u001b[0m: No module named 'scipy'"
     ]
    }
   ],
   "source": [
    "from scipy import stats\n",
    "1 - stats.binom.cdf(0, n=3, p=0.2)"
   ]
  },
  {
   "cell_type": "markdown",
   "metadata": {},
   "source": [
    "### 연속확률변수\n",
    "연속확률 변수의 확률 분포  \n",
    "확률 질량함수 대신 `확률 밀도 함수`  \n",
    "확률밀도함수의 그래프 아래부분의 넓이가 확률.  \n",
    "\n",
    "### 정규분포\n",
    "연속확률 변수의 대표적인 것  \n",
    "종모양.  \n",
    "\n",
    "### 표준 정규 확률 변수\n",
    "`Z = (X-m) / s `  \n",
    "정규확률변수를 표준화시켜서 확률변수를 계산할 수 있다.  "
   ]
  },
  {
   "cell_type": "code",
   "execution_count": null,
   "metadata": {},
   "outputs": [],
   "source": [
    "# X~N(4,3^2)\n",
    "# P[X <= 4] = ?\n",
    "stats.norm.cdf(4, loc=4, scale=3)\n",
    "\n",
    "# P[4 <= X <= 7]\n",
    "a = stats.norm.cdf(7, loc=4, scale=3)\n",
    "b = stats.norm.cdf(4, loc=4, scale=3)\n",
    "a-b"
   ]
  },
  {
   "cell_type": "markdown",
   "metadata": {},
   "source": [
    "### 포아송 분포\n",
    "일정한 시간단위, 공간단위에서 발생하는 이벤트의 수의 확률 분포  \n",
    "- 하루동안 웹사이트를 방문하는 방문자의 수\n",
    "- 전선 100미터당 발생하는 결함의 수  \n",
    "평균 == 분산  "
   ]
  },
  {
   "cell_type": "code",
   "execution_count": null,
   "metadata": {},
   "outputs": [],
   "source": [
    "# 평균이 3일때\n",
    "# p[x<=2]\n",
    "stats.poisson.cdf(2, mu=3)"
   ]
  },
  {
   "cell_type": "markdown",
   "metadata": {},
   "source": [
    "### 지수 분포\n",
    "포아송 분포에 의해 어떤 사건이 발생할 때, 어느 한 시점으로부터 이 사건이 발생할 때까지 걸리는 시간에 대한 확률 분포  \n"
   ]
  },
  {
   "cell_type": "code",
   "execution_count": null,
   "metadata": {},
   "outputs": [],
   "source": []
  }
 ],
 "metadata": {
  "interpreter": {
   "hash": "b2bcf9189f40d0c81fe27aab492dc40a6bef0038ebebd2816340548abcf01d61"
  },
  "kernelspec": {
   "display_name": "Python 3.7.9 64-bit ('stdata': conda)",
   "language": "python",
   "name": "python3"
  },
  "language_info": {
   "codemirror_mode": {
    "name": "ipython",
    "version": 3
   },
   "file_extension": ".py",
   "mimetype": "text/x-python",
   "name": "python",
   "nbconvert_exporter": "python",
   "pygments_lexer": "ipython3",
   "version": "3.7.9"
  },
  "orig_nbformat": 4
 },
 "nbformat": 4,
 "nbformat_minor": 2
}
